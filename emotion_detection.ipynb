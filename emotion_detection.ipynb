{
 "cells": [
  {
   "cell_type": "code",
   "execution_count": 1,
   "metadata": {},
   "outputs": [],
   "source": [
    "import pandas as pd\n",
    "#import numpy as np"
   ]
  },
  {
   "cell_type": "code",
   "execution_count": 2,
   "metadata": {},
   "outputs": [
    {
     "output_type": "execute_result",
     "data": {
      "text/plain": "     tweet_id  emotion       author  \\\n0  1956967666  sadness    wannamama   \n1  1956967696  sadness    coolfunky   \n2  1956968487  sadness     ShansBee   \n3  1956969035  sadness  nic0lepaula   \n4  1956969172  sadness   Ingenue_Em   \n\n                                             content  \n0  Layin n bed with a headache  ughhhh...waitin o...  \n1                Funeral ceremony...gloomy friday...  \n2  I should be sleep, but im not! thinking about ...  \n3            @charviray Charlene my love. I miss you  \n4         @kelcouch I'm sorry  at least it's Friday?  ",
      "text/html": "<div>\n<style scoped>\n    .dataframe tbody tr th:only-of-type {\n        vertical-align: middle;\n    }\n\n    .dataframe tbody tr th {\n        vertical-align: top;\n    }\n\n    .dataframe thead th {\n        text-align: right;\n    }\n</style>\n<table border=\"1\" class=\"dataframe\">\n  <thead>\n    <tr style=\"text-align: right;\">\n      <th></th>\n      <th>tweet_id</th>\n      <th>emotion</th>\n      <th>author</th>\n      <th>content</th>\n    </tr>\n  </thead>\n  <tbody>\n    <tr>\n      <th>0</th>\n      <td>1956967666</td>\n      <td>sadness</td>\n      <td>wannamama</td>\n      <td>Layin n bed with a headache  ughhhh...waitin o...</td>\n    </tr>\n    <tr>\n      <th>1</th>\n      <td>1956967696</td>\n      <td>sadness</td>\n      <td>coolfunky</td>\n      <td>Funeral ceremony...gloomy friday...</td>\n    </tr>\n    <tr>\n      <th>2</th>\n      <td>1956968487</td>\n      <td>sadness</td>\n      <td>ShansBee</td>\n      <td>I should be sleep, but im not! thinking about ...</td>\n    </tr>\n    <tr>\n      <th>3</th>\n      <td>1956969035</td>\n      <td>sadness</td>\n      <td>nic0lepaula</td>\n      <td>@charviray Charlene my love. I miss you</td>\n    </tr>\n    <tr>\n      <th>4</th>\n      <td>1956969172</td>\n      <td>sadness</td>\n      <td>Ingenue_Em</td>\n      <td>@kelcouch I'm sorry  at least it's Friday?</td>\n    </tr>\n  </tbody>\n</table>\n</div>"
     },
     "metadata": {},
     "execution_count": 2
    }
   ],
   "source": [
    "#Read the DataFrame\n",
    "df=pd.read_csv('text_emotion.csv')\n",
    "df.head()"
   ]
  },
  {
   "cell_type": "code",
   "execution_count": 3,
   "metadata": {},
   "outputs": [
    {
     "output_type": "execute_result",
     "data": {
      "text/plain": "   emotion                                            content\n0  sadness  Layin n bed with a headache  ughhhh...waitin o...\n1  sadness                Funeral ceremony...gloomy friday...\n2  sadness  I should be sleep, but im not! thinking about ...\n3  sadness            @charviray Charlene my love. I miss you\n4  sadness         @kelcouch I'm sorry  at least it's Friday?",
      "text/html": "<div>\n<style scoped>\n    .dataframe tbody tr th:only-of-type {\n        vertical-align: middle;\n    }\n\n    .dataframe tbody tr th {\n        vertical-align: top;\n    }\n\n    .dataframe thead th {\n        text-align: right;\n    }\n</style>\n<table border=\"1\" class=\"dataframe\">\n  <thead>\n    <tr style=\"text-align: right;\">\n      <th></th>\n      <th>emotion</th>\n      <th>content</th>\n    </tr>\n  </thead>\n  <tbody>\n    <tr>\n      <th>0</th>\n      <td>sadness</td>\n      <td>Layin n bed with a headache  ughhhh...waitin o...</td>\n    </tr>\n    <tr>\n      <th>1</th>\n      <td>sadness</td>\n      <td>Funeral ceremony...gloomy friday...</td>\n    </tr>\n    <tr>\n      <th>2</th>\n      <td>sadness</td>\n      <td>I should be sleep, but im not! thinking about ...</td>\n    </tr>\n    <tr>\n      <th>3</th>\n      <td>sadness</td>\n      <td>@charviray Charlene my love. I miss you</td>\n    </tr>\n    <tr>\n      <th>4</th>\n      <td>sadness</td>\n      <td>@kelcouch I'm sorry  at least it's Friday?</td>\n    </tr>\n  </tbody>\n</table>\n</div>"
     },
     "metadata": {},
     "execution_count": 3
    }
   ],
   "source": [
    "#remove unwanted columns\n",
    "df=df.drop(['tweet_id','author'], axis =1)\n",
    "df.head()"
   ]
  },
  {
   "cell_type": "code",
   "execution_count": 4,
   "metadata": {},
   "outputs": [
    {
     "output_type": "execute_result",
     "data": {
      "text/plain": "   emotion                                            content\n0  sadness  layin n bed with a headache  ughhhh...waitin o...\n1  sadness                funeral ceremony...gloomy friday...\n2  sadness  i should be sleep, but im not! thinking about ...\n3  sadness            @charviray charlene my love. i miss you\n4  sadness         @kelcouch i'm sorry  at least it's friday?",
      "text/html": "<div>\n<style scoped>\n    .dataframe tbody tr th:only-of-type {\n        vertical-align: middle;\n    }\n\n    .dataframe tbody tr th {\n        vertical-align: top;\n    }\n\n    .dataframe thead th {\n        text-align: right;\n    }\n</style>\n<table border=\"1\" class=\"dataframe\">\n  <thead>\n    <tr style=\"text-align: right;\">\n      <th></th>\n      <th>emotion</th>\n      <th>content</th>\n    </tr>\n  </thead>\n  <tbody>\n    <tr>\n      <th>0</th>\n      <td>sadness</td>\n      <td>layin n bed with a headache  ughhhh...waitin o...</td>\n    </tr>\n    <tr>\n      <th>1</th>\n      <td>sadness</td>\n      <td>funeral ceremony...gloomy friday...</td>\n    </tr>\n    <tr>\n      <th>2</th>\n      <td>sadness</td>\n      <td>i should be sleep, but im not! thinking about ...</td>\n    </tr>\n    <tr>\n      <th>3</th>\n      <td>sadness</td>\n      <td>@charviray charlene my love. i miss you</td>\n    </tr>\n    <tr>\n      <th>4</th>\n      <td>sadness</td>\n      <td>@kelcouch i'm sorry  at least it's friday?</td>\n    </tr>\n  </tbody>\n</table>\n</div>"
     },
     "metadata": {},
     "execution_count": 4
    }
   ],
   "source": [
    "#convert content to lowercase\n",
    "df.content=df.content.str.lower()\n",
    "df.head()"
   ]
  },
  {
   "cell_type": "code",
   "execution_count": 5,
   "metadata": {},
   "outputs": [
    {
     "output_type": "execute_result",
     "data": {
      "text/plain": "   emotion                                            content\n0  sadness  layin n bed with a headache  ughhhh...waitin o...\n1  sadness                funeral ceremony...gloomy friday...\n2  sadness  i should be sleep, but im not! thinking about ...\n3  sadness            @charviray charlene my love. i miss you\n4  sadness         @kelcouch i'm sorry  at least it's friday?",
      "text/html": "<div>\n<style scoped>\n    .dataframe tbody tr th:only-of-type {\n        vertical-align: middle;\n    }\n\n    .dataframe tbody tr th {\n        vertical-align: top;\n    }\n\n    .dataframe thead th {\n        text-align: right;\n    }\n</style>\n<table border=\"1\" class=\"dataframe\">\n  <thead>\n    <tr style=\"text-align: right;\">\n      <th></th>\n      <th>emotion</th>\n      <th>content</th>\n    </tr>\n  </thead>\n  <tbody>\n    <tr>\n      <th>0</th>\n      <td>sadness</td>\n      <td>layin n bed with a headache  ughhhh...waitin o...</td>\n    </tr>\n    <tr>\n      <th>1</th>\n      <td>sadness</td>\n      <td>funeral ceremony...gloomy friday...</td>\n    </tr>\n    <tr>\n      <th>2</th>\n      <td>sadness</td>\n      <td>i should be sleep, but im not! thinking about ...</td>\n    </tr>\n    <tr>\n      <th>3</th>\n      <td>sadness</td>\n      <td>@charviray charlene my love. i miss you</td>\n    </tr>\n    <tr>\n      <th>4</th>\n      <td>sadness</td>\n      <td>@kelcouch i'm sorry  at least it's friday?</td>\n    </tr>\n  </tbody>\n</table>\n</div>"
     },
     "metadata": {},
     "execution_count": 5
    }
   ],
   "source": [
    "#replace blank space\n",
    "df.content=df.content.str.replace(\"rt\",\"\")\n",
    "df.head()"
   ]
  },
  {
   "cell_type": "code",
   "execution_count": 6,
   "metadata": {},
   "outputs": [
    {
     "output_type": "execute_result",
     "data": {
      "text/plain": "   emotion                                            content\n0  sadness  layin n bed with a headache  ughhhh...waitin o...\n1  sadness                funeral ceremony...gloomy friday...\n2  sadness  i should be sleep, but im not! thinking about ...\n3  sadness                       charlene my love. i miss you\n4  sadness                   i'm sorry  at least it's friday?",
      "text/html": "<div>\n<style scoped>\n    .dataframe tbody tr th:only-of-type {\n        vertical-align: middle;\n    }\n\n    .dataframe tbody tr th {\n        vertical-align: top;\n    }\n\n    .dataframe thead th {\n        text-align: right;\n    }\n</style>\n<table border=\"1\" class=\"dataframe\">\n  <thead>\n    <tr style=\"text-align: right;\">\n      <th></th>\n      <th>emotion</th>\n      <th>content</th>\n    </tr>\n  </thead>\n  <tbody>\n    <tr>\n      <th>0</th>\n      <td>sadness</td>\n      <td>layin n bed with a headache  ughhhh...waitin o...</td>\n    </tr>\n    <tr>\n      <th>1</th>\n      <td>sadness</td>\n      <td>funeral ceremony...gloomy friday...</td>\n    </tr>\n    <tr>\n      <th>2</th>\n      <td>sadness</td>\n      <td>i should be sleep, but im not! thinking about ...</td>\n    </tr>\n    <tr>\n      <th>3</th>\n      <td>sadness</td>\n      <td>charlene my love. i miss you</td>\n    </tr>\n    <tr>\n      <th>4</th>\n      <td>sadness</td>\n      <td>i'm sorry  at least it's friday?</td>\n    </tr>\n  </tbody>\n</table>\n</div>"
     },
     "metadata": {},
     "execution_count": 6
    }
   ],
   "source": [
    "#replace @username\n",
    "df.content=df.content.str.replace(\"@\\\\w+\",\"\")\n",
    "df.head()"
   ]
  },
  {
   "cell_type": "code",
   "execution_count": 7,
   "metadata": {},
   "outputs": [
    {
     "output_type": "execute_result",
     "data": {
      "text/plain": "   emotion                                            content\n0  sadness  layin n bed with a headache  ughhhh...waitin o...\n1  sadness                funeral ceremony...gloomy friday...\n2  sadness  i should be sleep, but im not! thinking about ...\n3  sadness                       charlene my love. i miss you\n4  sadness                   i'm sorry  at least it's friday?",
      "text/html": "<div>\n<style scoped>\n    .dataframe tbody tr th:only-of-type {\n        vertical-align: middle;\n    }\n\n    .dataframe tbody tr th {\n        vertical-align: top;\n    }\n\n    .dataframe thead th {\n        text-align: right;\n    }\n</style>\n<table border=\"1\" class=\"dataframe\">\n  <thead>\n    <tr style=\"text-align: right;\">\n      <th></th>\n      <th>emotion</th>\n      <th>content</th>\n    </tr>\n  </thead>\n  <tbody>\n    <tr>\n      <th>0</th>\n      <td>sadness</td>\n      <td>layin n bed with a headache  ughhhh...waitin o...</td>\n    </tr>\n    <tr>\n      <th>1</th>\n      <td>sadness</td>\n      <td>funeral ceremony...gloomy friday...</td>\n    </tr>\n    <tr>\n      <th>2</th>\n      <td>sadness</td>\n      <td>i should be sleep, but im not! thinking about ...</td>\n    </tr>\n    <tr>\n      <th>3</th>\n      <td>sadness</td>\n      <td>charlene my love. i miss you</td>\n    </tr>\n    <tr>\n      <th>4</th>\n      <td>sadness</td>\n      <td>i'm sorry  at least it's friday?</td>\n    </tr>\n  </tbody>\n</table>\n</div>"
     },
     "metadata": {},
     "execution_count": 7
    }
   ],
   "source": [
    "#remove punctuation\n",
    "df.content=df.content.str.replace(\"[[:punct:]]\",\"\")\n",
    "df.head()"
   ]
  },
  {
   "cell_type": "code",
   "execution_count": 8,
   "metadata": {},
   "outputs": [
    {
     "output_type": "execute_result",
     "data": {
      "text/plain": "   emotion                                            content\n0  sadness  layin n bed with a headache  ughhhh...waitin o...\n1  sadness                funeral ceremony...gloomy friday...\n2  sadness  i should be sleep, but im not! thinking about ...\n3  sadness                       charlene my love. i miss you\n4  sadness                   i'm sorry  at least it's friday?",
      "text/html": "<div>\n<style scoped>\n    .dataframe tbody tr th:only-of-type {\n        vertical-align: middle;\n    }\n\n    .dataframe tbody tr th {\n        vertical-align: top;\n    }\n\n    .dataframe thead th {\n        text-align: right;\n    }\n</style>\n<table border=\"1\" class=\"dataframe\">\n  <thead>\n    <tr style=\"text-align: right;\">\n      <th></th>\n      <th>emotion</th>\n      <th>content</th>\n    </tr>\n  </thead>\n  <tbody>\n    <tr>\n      <th>0</th>\n      <td>sadness</td>\n      <td>layin n bed with a headache  ughhhh...waitin o...</td>\n    </tr>\n    <tr>\n      <th>1</th>\n      <td>sadness</td>\n      <td>funeral ceremony...gloomy friday...</td>\n    </tr>\n    <tr>\n      <th>2</th>\n      <td>sadness</td>\n      <td>i should be sleep, but im not! thinking about ...</td>\n    </tr>\n    <tr>\n      <th>3</th>\n      <td>sadness</td>\n      <td>charlene my love. i miss you</td>\n    </tr>\n    <tr>\n      <th>4</th>\n      <td>sadness</td>\n      <td>i'm sorry  at least it's friday?</td>\n    </tr>\n  </tbody>\n</table>\n</div>"
     },
     "metadata": {},
     "execution_count": 8
    }
   ],
   "source": [
    "#remove links\n",
    "df.content=df.content.str.replace(\"http\\\\w+\",\"\")\n",
    "df.head()"
   ]
  },
  {
   "cell_type": "code",
   "execution_count": 9,
   "metadata": {},
   "outputs": [
    {
     "output_type": "execute_result",
     "data": {
      "text/plain": "   emotion                                            content\n0  sadness  layin n bed with a headacheughhhh...waitin on ...\n1  sadness                funeral ceremony...gloomy friday...\n2  sadness  i should be sleep, but im not! thinking about ...\n3  sadness                       charlene my love. i miss you\n4  sadness                     i'm sorryat least it's friday?",
      "text/html": "<div>\n<style scoped>\n    .dataframe tbody tr th:only-of-type {\n        vertical-align: middle;\n    }\n\n    .dataframe tbody tr th {\n        vertical-align: top;\n    }\n\n    .dataframe thead th {\n        text-align: right;\n    }\n</style>\n<table border=\"1\" class=\"dataframe\">\n  <thead>\n    <tr style=\"text-align: right;\">\n      <th></th>\n      <th>emotion</th>\n      <th>content</th>\n    </tr>\n  </thead>\n  <tbody>\n    <tr>\n      <th>0</th>\n      <td>sadness</td>\n      <td>layin n bed with a headacheughhhh...waitin on ...</td>\n    </tr>\n    <tr>\n      <th>1</th>\n      <td>sadness</td>\n      <td>funeral ceremony...gloomy friday...</td>\n    </tr>\n    <tr>\n      <th>2</th>\n      <td>sadness</td>\n      <td>i should be sleep, but im not! thinking about ...</td>\n    </tr>\n    <tr>\n      <th>3</th>\n      <td>sadness</td>\n      <td>charlene my love. i miss you</td>\n    </tr>\n    <tr>\n      <th>4</th>\n      <td>sadness</td>\n      <td>i'm sorryat least it's friday?</td>\n    </tr>\n  </tbody>\n</table>\n</div>"
     },
     "metadata": {},
     "execution_count": 9
    }
   ],
   "source": [
    "#remove tabs\n",
    "df.content=df.content.str.replace(\"[ |\\t]{2,}\",\"\")\n",
    "df.head()"
   ]
  },
  {
   "cell_type": "code",
   "execution_count": 10,
   "metadata": {},
   "outputs": [
    {
     "output_type": "execute_result",
     "data": {
      "text/plain": "   emotion                                            content\n0  sadness  layin n bed with a headacheughhhh...waitin on ...\n1  sadness                funeral ceremony...gloomy friday...\n2  sadness  i should be sleep, but im not! thinking about ...\n3  sadness                       charlene my love. i miss you\n4  sadness                     i'm sorryat least it's friday?",
      "text/html": "<div>\n<style scoped>\n    .dataframe tbody tr th:only-of-type {\n        vertical-align: middle;\n    }\n\n    .dataframe tbody tr th {\n        vertical-align: top;\n    }\n\n    .dataframe thead th {\n        text-align: right;\n    }\n</style>\n<table border=\"1\" class=\"dataframe\">\n  <thead>\n    <tr style=\"text-align: right;\">\n      <th></th>\n      <th>emotion</th>\n      <th>content</th>\n    </tr>\n  </thead>\n  <tbody>\n    <tr>\n      <th>0</th>\n      <td>sadness</td>\n      <td>layin n bed with a headacheughhhh...waitin on ...</td>\n    </tr>\n    <tr>\n      <th>1</th>\n      <td>sadness</td>\n      <td>funeral ceremony...gloomy friday...</td>\n    </tr>\n    <tr>\n      <th>2</th>\n      <td>sadness</td>\n      <td>i should be sleep, but im not! thinking about ...</td>\n    </tr>\n    <tr>\n      <th>3</th>\n      <td>sadness</td>\n      <td>charlene my love. i miss you</td>\n    </tr>\n    <tr>\n      <th>4</th>\n      <td>sadness</td>\n      <td>i'm sorryat least it's friday?</td>\n    </tr>\n  </tbody>\n</table>\n</div>"
     },
     "metadata": {},
     "execution_count": 10
    }
   ],
   "source": [
    "#remove blank spaces at the beginning\n",
    "df.content=df.content.str.replace(\"^ \",\"\")\n",
    "df.head()"
   ]
  },
  {
   "cell_type": "code",
   "execution_count": 11,
   "metadata": {},
   "outputs": [
    {
     "output_type": "execute_result",
     "data": {
      "text/plain": "   emotion                                            content\n0  sadness  layin n bed with a headacheughhhh...waitin on ...\n1  sadness                funeral ceremony...gloomy friday...\n2  sadness  i should be sleep, but im not! thinking about ...\n3  sadness                       charlene my love. i miss you\n4  sadness                     i'm sorryat least it's friday?",
      "text/html": "<div>\n<style scoped>\n    .dataframe tbody tr th:only-of-type {\n        vertical-align: middle;\n    }\n\n    .dataframe tbody tr th {\n        vertical-align: top;\n    }\n\n    .dataframe thead th {\n        text-align: right;\n    }\n</style>\n<table border=\"1\" class=\"dataframe\">\n  <thead>\n    <tr style=\"text-align: right;\">\n      <th></th>\n      <th>emotion</th>\n      <th>content</th>\n    </tr>\n  </thead>\n  <tbody>\n    <tr>\n      <th>0</th>\n      <td>sadness</td>\n      <td>layin n bed with a headacheughhhh...waitin on ...</td>\n    </tr>\n    <tr>\n      <th>1</th>\n      <td>sadness</td>\n      <td>funeral ceremony...gloomy friday...</td>\n    </tr>\n    <tr>\n      <th>2</th>\n      <td>sadness</td>\n      <td>i should be sleep, but im not! thinking about ...</td>\n    </tr>\n    <tr>\n      <th>3</th>\n      <td>sadness</td>\n      <td>charlene my love. i miss you</td>\n    </tr>\n    <tr>\n      <th>4</th>\n      <td>sadness</td>\n      <td>i'm sorryat least it's friday?</td>\n    </tr>\n  </tbody>\n</table>\n</div>"
     },
     "metadata": {},
     "execution_count": 11
    }
   ],
   "source": [
    "#remove blank spaces at the end\n",
    "df.content=df.content.str.replace(\" $\",\"\")\n",
    "df.head()"
   ]
  },
  {
   "cell_type": "code",
   "execution_count": 12,
   "metadata": {},
   "outputs": [
    {
     "output_type": "execute_result",
     "data": {
      "text/plain": "happiness    5209\nsadness      5165\nsurprise     2187\nanger         110\nName: emotion, dtype: int64"
     },
     "metadata": {},
     "execution_count": 12
    }
   ],
   "source": [
    "emotion_type=df.emotion.value_counts()\n",
    "emotion_type"
   ]
  },
  {
   "cell_type": "code",
   "execution_count": 13,
   "metadata": {},
   "outputs": [
    {
     "output_type": "execute_result",
     "data": {
      "text/plain": "0    layin n bed with a headacheughhhh...waitin on ...\n1                  funeral ceremony...gloomy friday...\n2    i should be sleep, but im not! thinking about ...\n3                         charlene my love. i miss you\n4                       i'm sorryat least it's friday?\nName: content, dtype: object"
     },
     "metadata": {},
     "execution_count": 13
    }
   ],
   "source": [
    "X=df.content\n",
    "X.head()"
   ]
  },
  {
   "cell_type": "code",
   "execution_count": 14,
   "metadata": {
    "tags": []
   },
   "outputs": [
    {
     "output_type": "stream",
     "name": "stdout",
     "text": "(12671,)\n"
    }
   ],
   "source": [
    "print(X.shape)"
   ]
  },
  {
   "cell_type": "code",
   "execution_count": 15,
   "metadata": {},
   "outputs": [
    {
     "output_type": "execute_result",
     "data": {
      "text/plain": "0    sadness\n1    sadness\n2    sadness\n3    sadness\n4    sadness\nName: emotion, dtype: object"
     },
     "metadata": {},
     "execution_count": 15
    }
   ],
   "source": [
    "y=df.emotion\n",
    "y.head()"
   ]
  },
  {
   "cell_type": "code",
   "execution_count": 16,
   "metadata": {
    "tags": []
   },
   "outputs": [
    {
     "output_type": "stream",
     "name": "stdout",
     "text": "(12671,)\n"
    }
   ],
   "source": [
    "print(y.shape)"
   ]
  },
  {
   "cell_type": "code",
   "execution_count": 17,
   "metadata": {},
   "outputs": [],
   "source": [
    "from sklearn.model_selection  import train_test_split\n",
    "X_train, X_test, y_train, y_test = train_test_split(X, y, test_size = 0.7, random_state = 82)"
   ]
  },
  {
   "cell_type": "code",
   "execution_count": 18,
   "metadata": {},
   "outputs": [
    {
     "output_type": "execute_result",
     "data": {
      "text/plain": "6175    i want to become vegetarian, it's going to be ...\n3334    im sad...there's a for sale sign in front of m...\n1260    the one day i want to listen to you live and t...\n5295                              feels like throwing up!\n8021    haha i know, i cant handle the fame!and thank ...\nName: content, dtype: object"
     },
     "metadata": {},
     "execution_count": 18
    }
   ],
   "source": [
    "X_train.head()"
   ]
  },
  {
   "cell_type": "code",
   "execution_count": 19,
   "metadata": {},
   "outputs": [
    {
     "output_type": "execute_result",
     "data": {
      "text/plain": "6175     surprise\n3334      sadness\n1260      sadness\n5295    happiness\n8021    happiness\nName: emotion, dtype: object"
     },
     "metadata": {},
     "execution_count": 19
    }
   ],
   "source": [
    "y_train.head()"
   ]
  },
  {
   "cell_type": "code",
   "execution_count": 20,
   "metadata": {},
   "outputs": [
    {
     "output_type": "execute_result",
     "data": {
      "text/plain": "4092    waaah! masseuse is fully booked. no shoulder r...\n325              sorry, is only in spanish for the moment\n7432    is such a good big cousin as shes taking her l...\n8526    my computer is so slooowww this morning.i thin...\n6364    i'm bored... don't want to stay home tonight, ...\nName: content, dtype: object"
     },
     "metadata": {},
     "execution_count": 20
    }
   ],
   "source": [
    "X_test.head()"
   ]
  },
  {
   "cell_type": "code",
   "execution_count": 21,
   "metadata": {},
   "outputs": [
    {
     "output_type": "execute_result",
     "data": {
      "text/plain": "4092     surprise\n325       sadness\n7432    happiness\n8526      sadness\n6364      sadness\nName: emotion, dtype: object"
     },
     "metadata": {},
     "execution_count": 21
    }
   ],
   "source": [
    "y_test.head()\n"
   ]
  },
  {
   "cell_type": "code",
   "execution_count": 22,
   "metadata": {},
   "outputs": [],
   "source": [
    "from sklearn.feature_extraction.text import CountVectorizer\n",
    "vect = CountVectorizer(stop_words='english')"
   ]
  },
  {
   "cell_type": "code",
   "execution_count": 23,
   "metadata": {},
   "outputs": [
    {
     "output_type": "execute_result",
     "data": {
      "text/plain": "{'want': 7440,\n 'vegetarian': 7336,\n 'going': 2889,\n 'hard': 3127,\n 'im': 3491,\n 'sad': 5857,\n 'sale': 5878,\n 'sign': 6134,\n 'house': 3376,\n 'day': 1829,\n 'listen': 4064,\n 'live': 4072,\n 'stream': 6479,\n 'downenjoy': 2076,\n 'podcast': 5301,\n 'time': 6906,\n 'feels': 2490,\n 'like': 4037,\n 'throwing': 6874,\n 'haha': 3063,\n 'know': 3861,\n 'handle': 3101,\n 'fame': 2440,\n 'thank': 6800,\n 'don': 2055,\n 'make': 4239,\n 'feel': 2487,\n 'used': 7296,\n 'shocked': 6087,\n 'feeling': 2489,\n 'sick': 6126,\n 'happy': 3120,\n 'quot': 5529,\n 'locked': 4096,\n 'abroad': 284,\n 'makes': 4241,\n 'bein': 858,\n 'half': 3089,\n 'brown': 1124,\n 'good': 2903,\n 'risk': 5761,\n 'mgmt': 4411,\n 'travelin': 7068,\n '3rd': 130,\n 'world': 7704,\n 'blend': 942,\n 'sorry': 6316,\n 'hostage': 3365,\n 'magnet': 4227,\n 'white': 7571,\n 'pepo': 5156,\n 'yeah': 7783,\n 'saw': 5920,\n 'looks': 4124,\n 'work': 7683,\n 'knowwhats': 3869,\n 'upp': 7277,\n 'handsome': 3103,\n 'lovely': 4155,\n 'left': 3990,\n 'az': 711,\n 'lol': 4100,\n 'comedygood': 1539,\n 'luck': 4173,\n 'friend': 2705,\n 'http': 3392,\n 'twitpic': 7175,\n 'com': 1531,\n '67swx': 234,\n 'wish': 7622,\n 'calling': 1234,\n 'malta': 4249,\n 'gotta': 2933,\n 'terabyteof': 6770,\n 'space': 6339,\n 'store': 6465,\n 'movies': 4596,\n 'did': 1957,\n 'sound': 6325,\n 'input': 3546,\n 'computer': 1563,\n 'stop': 6463,\n 'working': 7692,\n 'mic': 4414,\n 'jack': 3642,\n 'usb': 7294,\n 'webcam': 7497,\n 'doesn': 2038,\n 'checked': 1376,\n 'controls': 1609,\n 'anytimethat': 546,\n 'giggles': 2843,\n 'sorrydo': 6317,\n 'aim': 406,\n 'couple': 1655,\n 'hours': 3374,\n 'need': 4699,\n 'vent': 7339,\n 'better': 885,\n 'way': 7483,\n 'spoil': 6376,\n 'mum': 4633,\n 'let': 4012,\n 'kick': 3817,\n 'relax': 5653,\n 'nice': 4748,\n 'meal': 4330,\n 'bottle': 1031,\n 'favorite': 2471,\n 'wine': 7612,\n 'red': 5627,\n 'follow': 2617,\n 'boobfeed': 1001,\n 'incredible': 3524,\n 'tweet': 7147,\n '10': 12,\n 'links': 4056,\n 'free': 2679,\n 'breasts': 1076,\n 'tweeter': 7150,\n 'nope': 4806,\n 'home': 3311,\n 'missed': 4474,\n 'friggin': 2712,\n 'hair': 3080,\n 'appt': 568,\n 'missi': 4478,\n 'able': 282,\n 'sleepi': 6198,\n 'love': 4150,\n 'great': 2967,\n 'trip': 7089,\n 'tomorrow': 6980,\n 'send': 6004,\n 'hahathanks': 3077,\n '3x3wq': 134,\n 'impossible': 3507,\n 'closely': 1486,\n 'enjoy': 2272,\n 'holsxxx': 3309,\n 'really': 5596,\n 'belive': 864,\n 'thatxxx': 6812,\n 'greaaat': 2965,\n 'minee': 4446,\n 'pleaseeeeee': 5280,\n 'got': 2929,\n 'obviously': 4879,\n 'wrong': 7731,\n 'costume': 1642,\n 'shop': 6095,\n 'cleaning': 1475,\n 'starving': 6423,\n 'bring': 1090,\n 'food': 2631,\n 'soooooo': 6308,\n 'school': 5939,\n 'myspace': 4660,\n 'completely': 1559,\n 'blocked': 955,\n 'yes': 7805,\n 'sadly': 5867,\n 'scotland': 5947,\n 'shane': 6045,\n 'lt': 4170,\n 'true': 7097,\n 've': 7332,\n 'keeping': 3798,\n 'eye': 2401,\n 'arent': 576,\n 'tech': 6740,\n 'savvy': 5919,\n 'alright': 464,\n 'far': 2452,\n 'oh': 4900,\n 'jealous': 3679,\n 'surprising': 6609,\n 'rooting': 5805,\n 'ali': 433,\n 'twitter': 7176,\n 'war': 7446,\n 'staed': 6404,\n 'mother': 4576,\n 'season': 5977,\n 'best': 879,\n 'night': 4759,\n 'ohyeahhhhate': 4909,\n 'heat': 3187,\n '665a2': 212,\n 'getting': 2831,\n 'ton': 6985,\n 'spam': 6341,\n 'mail': 4233,\n 'inbox': 3516,\n 'driving': 2122,\n 'insane': 3549,\n 'sanctuarysunday': 5892,\n 'fav': 2469,\n 'characterhas': 1354,\n 'ashley': 612,\n 'cause': 1312,\n 'awesome': 682,\n 'took': 7010,\n 'awhile': 690,\n 'accustomed': 310,\n 'apple': 558,\n 'btw': 1141,\n 'amp': 489,\n 'end': 2258,\n 'knowwww': 3871,\n 'deal': 1859,\n 'life': 4028,\n 'weird': 7527,\n 'synced': 6664,\n 'morning': 4562,\n 'new': 4731,\n 'episode': 2292,\n 'people': 5153,\n 'stressing': 6486,\n 'today': 6951,\n 'tucson': 7114,\n 'tr': 7045,\n 'mq39': 4608,\n 'shall': 6043,\n 'miss': 4473,\n 'sour': 6332,\n 'cream': 1688,\n 'pie': 5218,\n 'fondue': 2629,\n 'separate': 6013,\n 'seating': 5982,\n 'groups': 3004,\n 'dogs': 2046,\n 'laptop': 3932,\n 'sta': 6400,\n 'ready': 5585,\n 'forshindig': 2657,\n 'twitterloves': 7187,\n 'science': 5944,\n 'boring': 1022,\n 'fiddler': 2517,\n 'topol': 7021,\n 'girls': 2855,\n 'looooved': 4127,\n 'month': 4543,\n 'annie': 523,\n '7th': 253,\n 'row': 5820,\n 'wait': 7419,\n 'music': 4644,\n 'sheet': 6054,\n 'talk': 6693,\n 'just': 3769,\n 'remembering': 5665,\n 'said': 5873,\n 'thing': 6832,\n 'fucking': 2728,\n 'bully': 1162,\n 'nasty': 4682,\n 'pieces': 5220,\n 'arrrrgrrrrrr': 600,\n 'guys': 3043,\n 'moving': 4601,\n 'la': 3896,\n 'castle': 1301,\n 'leave': 3985,\n 'afternoon': 366,\n '67iab': 228,\n 'rounding': 5816,\n 'bases': 784,\n 'fast': 2461,\n 'relays': 5656,\n 'game': 2782,\n 'didn': 1960,\n 'deleted': 1893,\n 'sent': 6009,\n 'days': 1840,\n 'agoandi': 384,\n 'cried': 1700,\n 'rr': 5824,\n 'weekend': 7510,\n '12': 28,\n 'exams': 2359,\n 'week': 7508,\n 'prevent': 5400,\n 'itgot': 3617,\n 'uni': 7249,\n 'summerball': 6559,\n 'sat': 5906,\n 'hear': 3180,\n 'tonight': 6988,\n 'jleno': 3710,\n 'maybe': 4315,\n 'away': 679,\n 'jump': 3761,\n 'car': 1272,\n 'pout': 5365,\n 'allergies': 446,\n 'suck': 6534,\n 'ducks': 2143,\n 'nuts': 4858,\n 'gt': 3013,\n 'raning': 5561,\n 'bad': 736,\n 'dont': 2060,\n 'welli': 7533,\n 'dentist': 1912,\n 'appointment': 561,\n 'later': 3944,\n 'yea': 7780,\n 'headed': 3171,\n 'change': 1345,\n 'head': 3168,\n 'pelham': 5145,\n 'thought': 6859,\n 'suposed': 6594,\n 'heading': 3172,\n 'nkotb': 4778,\n 'conce': 1567,\n 'drop': 2125,\n 'man': 4257,\n 'hang': 3106,\n 'instead': 3560,\n 'nooooooooooooooo': 4804,\n '4g': 154,\n 'prob': 5422,\n 'june': 3764,\n 'help': 3221,\n 'rainy': 5552,\n 'omg': 4927,\n 'hollyoaks': 3306,\n 'dramatic': 2096,\n 'run': 5839,\n 'cpt': 1671,\n 'hope': 3344,\n 'sunday': 6575,\n 'little': 4071,\n 'sister': 6164,\n 'lot': 4143,\n 'money': 4534,\n 'saab': 5852,\n 'coverage': 1663,\n 'totalled': 7029,\n 'yesterday': 7811,\n 'finally': 2543,\n 'welcoming': 7532,\n 'followers': 2620,\n 'think': 6837,\n 'worldat': 7705,\n 'hannah': 3111,\n 'montana': 4541,\n 'set': 6029,\n 'missing': 4479,\n 'tennessee': 6766,\n 'alot': 457,\n 'sun': 6567,\n 'hiding': 3251,\n 'hes': 3236,\n 'having': 3153,\n 'lie': 4026,\n 'inhows': 3541,\n 'spent': 6365,\n 'troubleshooting': 7095,\n 'wasn': 7463,\n 'control': 1608,\n 'clusters': 1498,\n 'mean': 4331,\n 'high': 3252,\n 'availability': 665,\n 'nooo': 4796,\n 'real': 5587,\n 'mushroom': 4643,\n 'neighbor': 4709,\n 'uprooted': 7280,\n 'city': 1459,\n 'usa': 7293,\n 'sinse': 6159,\n 'dis': 1992,\n 'reply': 5687,\n 'message': 4395,\n 'nuffin': 4849,\n 'pshh': 5469,\n 'cares': 1278,\n 'specialx': 6356,\n 'friday': 2701,\n 'grounded': 3002,\n 'till': 6903,\n 'thursday': 6880,\n 'stereos': 6445,\n '333': 111,\n 'fulfilling': 2736,\n 'gonna': 2902,\n 'soooo': 6306,\n 'summer': 6557,\n 'totally': 7030,\n 'excited': 2363,\n 'gets': 2829,\n 'worse': 7710,\n 'year': 7790,\n '2010': 69,\n '2011': 70,\n 'worst': 7711,\n 'months': 4544,\n 'whoa': 7574,\n 'steady': 6436,\n 'mate': 4302,\n 'fall': 2434,\n 'worked': 7686,\n 'plant': 5266,\n 'believes': 863,\n 'repect': 5682,\n 'workin': 7691,\n 'folks': 2615,\n 'normal': 4810,\n 'attacked': 641,\n 'swarm': 6625,\n 'mini': 4449,\n 'fly': 2603,\n 'opening': 4961,\n 'veranda': 7342,\n 'hour': 3373,\n 'rid': 5742,\n 'greatly': 2970,\n 'appreciate': 562,\n 'comment': 1548,\n 'means': 4335,\n 'progress': 5444,\n 'hey': 3238,\n 'chick': 1401,\n 'alryt': 465,\n 'dads': 1785,\n 'tmoro': 6939,\n 'sud': 6541,\n 'sumin': 6556,\n 'aen': 356,\n 'neva': 4728,\n 'dun': 2155,\n 'oot': 4956,\n 'lolmissed': 4105,\n 'ha': 3052,\n 'bye': 1205,\n 'hun': 3417,\n 'xxx': 7759,\n 'hi': 3247,\n 'uploaded': 7275,\n 'chinese': 1416,\n 'lessons': 4011,\n 'www': 7740,\n 'youtube': 7843,\n 'chineselearn': 1417,\n 'watch': 7472,\n 'lmao': 4081,\n 'stupid': 6516,\n 'felt': 2497,\n 'sayin': 5924,\n 'tyaï': 7199,\n 'caf': 1217,\n 'vioce': 7366,\n 'nite': 4774,\n 'ya': 7760,\n 'll': 4080,\n 'wade': 7414,\n 'god': 2880,\n 'look': 4119,\n 'stumpy': 6512,\n 'sharing': 6049,\n 'toes': 6972,\n 'downtown': 2084,\n 'drinking': 2116,\n 'celebrating': 1323,\n 'cavs': 1313,\n 'victory': 7354,\n 'hiiii': 3257,\n 'lay': 3967,\n 'patron': 5110,\n 'water': 7478,\n 'awww': 699,\n 'bless': 944,\n 'himi': 3267,\n 'coming': 1546,\n '68': 237,\n 'woooo': 7674,\n 'kind': 3836,\n 'style': 6519,\n 'isn': 3603,\n 'itand': 3611,\n 'old': 4920,\n 'chap': 1348,\n 'young': 7837,\n 'bahh': 748,\n 'police': 5317,\n 'ended': 2259,\n 'pay': 5113,\n 'staing': 6406,\n 'thanks': 6803,\n 'folow': 2628,\n 'snipurl': 6258,\n 'hq0n1': 3386,\n 'printed': 5415,\n 'mom': 4519,\n 'amazon': 477,\n 'gift': 2840,\n 'cardfor': 1274,\n 'mothers': 4577,\n 'minute': 4457,\n 'haven': 3150,\n 'seen': 5995,\n 'movie': 4594,\n 'journalism': 3742,\n 'major': 4237,\n 'perfect': 5161,\n 'fit': 2565,\n 'sure': 6602,\n 'entire': 2284,\n 'blogroll': 960,\n 'terribly': 6775,\n 'updated': 7267,\n 'motivate': 4579,\n 'update': 7266,\n 'redo': 5631,\n 'children': 1405,\n 'say': 5922,\n 'mommies': 4525,\n 'youth': 7842,\n 'group': 3003,\n 'meeting': 4353,\n 'amazing': 473,\n 'presencei': 5391,\n 'expecting': 2384,\n 'especially': 2315,\n 'moms': 4529,\n 'watching': 7476,\n 'bed': 841,\n 'bedtime': 846,\n 'story': 6470,\n '777': 250,\n 'leakycon': 3978,\n 'number': 4852,\n 'borgellajyou': 1021,\n 'cats': 1310,\n 'went': 7539,\n 'jenny': 3689,\n 'funso': 2754,\n 'doo': 2062,\n 'adventure': 352,\n 'fun': 2740,\n 'yr': 7848,\n 'mo': 4500,\n 'brave': 1061,\n 'noes': 4783,\n 'meanest': 4332,\n 'lil': 4042,\n 'boy': 1041,\n 'girl': 2851,\n 'loved': 4151,\n 'ahnot': 402,\n 'doing': 2049,\n 'cbeebies': 1314,\n 'epg': 2289,\n 'chance': 1342,\n 'hehe': 3205,\n 'pinkyponk': 5231,\n 'crash': 1682,\n 'warnings': 7454,\n 'journey': 3744,\n 'long': 4115,\n 'forgive': 2649,\n 'huing': 3411,\n 'blow': 967,\n 'torch': 7024,\n 'brokenthis': 1111,\n 'bummer': 1165,\n 'guess': 3017,\n 'everythingthanks': 2346,\n 'fans': 2449,\n 'loop': 4128,\n 'liked': 4038,\n 'itnot': 3624,\n 'woohoo': 7671,\n 'sunbeam': 6569,\n 'cafï': 1220,\n 'series': 6017,\n 'grinder': 2990,\n 'eu': 2324,\n 'foods': 2633,\n '198': 54,\n 'epic': 2290,\n 'win': 7603,\n 'wooow': 7676,\n 'charged': 1357,\n 'ipod': 3593,\n 'touch': 7032,\n 'alive': 439,\n 'coolio': 1621,\n 'wants': 7444,\n 'hate': 3141,\n 'nights': 4763,\n 'cos': 1637,\n 'gorgeous': 2925,\n 'weather': 7494,\n 'asleep': 619,\n 'coolthanks': 1622,\n 'named': 4673,\n 'recco': 5605,\n 'peeps': 5143,\n 'pretty': 5399,\n 'honored': 3334,\n 'blowin': 968,\n 'ego': 2223,\n 'simple': 6145,\n 'dinner': 1984,\n 'exist': 2376,\n 'rest': 5707,\n 'weekneomonia': 7519,\n 'whuuurrrrr': 7583,\n 'glands': 2864,\n 'swollen': 6655,\n 'relaxing': 5655,\n 'cracking': 1676,\n 'shots': 6100,\n 'maybebut': 4316,\n 'team': 6735,\n 'living': 4077,\n 'years': 7794,\n 'cups': 1745,\n 'talking': 6696,\n 'boyfriend': 1043,\n 'msn': 4615,\n 'cheesecake': 1388,\n 'brownies': 1125,\n 'walma': 7436,\n 'closest': 1488,\n 'em': 2237,\n 'wake': 7423,\n 'appear': 556,\n 'purple': 5490,\n 'wow': 7716,\n 'storm': 6468,\n 'power': 5366,\n 'raining': 5548,\n 'gng': 2876,\n 'rain': 5544,\n 'dance': 1800,\n 'bookmark': 1010,\n 'cut': 1757,\n 'gum': 3028,\n 'meet': 4352,\n 'robbinsons': 5773,\n 'olawd': 4919,\n 'pricelesssoooo': 5406,\n 'funny': 2753,\n 'goooooooood': 2922,\n 'mornin': 4561,\n 'tweeps': 7145,\n 'monday': 4531,\n 'tell': 6757,\n '8am': 260,\n 'clean': 1471,\n 'mid': 4418,\n 'shifts': 6067,\n 'awful': 686,\n 'counting': 1652,\n 'stupidly': 6517,\n 'cancelled': 1250,\n 'philly': 5184,\n 'yep': 7802,\n 'list': 4062,\n 'conflicting': 1577,\n 'planshow': 5265,\n 'tired': 6920,\n 'play': 5271,\n 'random': 5559,\n 'songs': 6294,\n 'gitwar': 2857,\n 'drama': 2094,\n 'essay': 2316,\n 'maaaaan': 4204,\n 'aswell': 629,\n 'tho': 6846,\n 'whats': 7554,\n 'walet': 7428,\n 'kno': 3857,\n 'evry1': 2348,\n 'leavin': 3987,\n 'horrible': 3355,\n 'supposed': 6600,\n 'ima': 3492,\n 'bgt': 894,\n 'didnt': 1961,\n 'soo': 6297,\n 'sadand': 5858,\n 'huggin': 3404,\n 'shining': 6071,\n 'lesson': 4010,\n 'flat': 2580,\n 'devon': 1944,\n 'caught': 1311,\n 'ate': 633,\n 'swallowed': 6624,\n 'die': 1964,\n 'tts': 7110,\n 'ridiculously': 5746,\n 'sweet': 6635,\n 'michelleeeeeeeeeeeemybelleeeeeeeeeeeeeeeeee': 4416,\n 'snif': 6254,\n 'talkin': 6695,\n 'turkey': 7128,\n 'ss': 6398,\n 'horse': 3360,\n 'gettin': 2830,\n 'rained': 5547,\n 'lots': 4146,\n 'events': 2334,\n 'ben': 872,\n 'incl': 3517,\n 'coaches': 1503,\n 'memories': 4375,\n 'blip': 948,\n 'fm': 2606,\n '5yxd4': 203,\n 'nipissing': 4773,\n 'pitasgood': 5242,\n 'euphoria': 2325,\n 'barrie': 780,\n 'survive': 6612,\n 'pitas': 5241,\n 'smoothies': 6238,\n 'forgot': 2650,\n 'lumpia': 4181,\n 'pancit': 5059,\n 'fridge': 2703,\n 'yay': 7772,\n 'dreambears': 2105,\n 'gay': 2805,\n 'sitting': 6172,\n 'payyyyy': 5123,\n 'panera': 5064,\n 'eating': 2191,\n 'bacon': 734,\n 'egg': 2220,\n 'cheese': 1386,\n 'coffee': 1513,\n '4jip9': 162,\n 'woman': 7658,\n '67hvr': 227,\n 'picture': 5214,\n 'freshman': 2694,\n 'thos': 6855,\n 'kiau': 3816,\n 'cat': 1303,\n 'heaven': 3190,\n 'seuss': 6033,\n 'finger': 2550,\n 'jk': 3708,\n 'thats': 6811,\n 'ignore': 3474,\n 'trak': 7062,\n 'van': 7328,\n 'turns': 7133,\n 'alcohol': 427,\n 'tallented': 6698,\n 'fitting': 2567,\n 'closer': 1487,\n 'puppy': 5487,\n 'cool': 1620,\n 'use': 7295,\n 'eat': 2188,\n 'quiet': 5522,\n 'dayhttp': 1833,\n 'bit': 920,\n 'ly': 4196,\n 'ijm54': 3480,\n 'friends': 2708,\n 'video': 7356,\n 'heard': 3181,\n 'slutted': 6217,\n 'jealz': 3682,\n 'twilightguy': 7165,\n 'kalebnation': 3783,\n 'sry': 6397,\n 'spamming': 6343,\n 'meant': 4336,\n 'yardhouse': 7768,\n 'waikiki': 7418,\n 'bday': 816,\n 'dj': 2023,\n 'dozen': 2086,\n 'hav': 3147,\n '100': 13,\n '1000': 14,\n 'given': 2859,\n 'grow': 3005,\n 'won': 7660,\n 'anythin': 543,\n 'reviews': 5725,\n 'surprised': 6608,\n 'tickets': 6887,\n 'celebrate': 1321,\n '15': 39,\n 'minutes': 4458,\n 'film': 2532,\n 'come': 1538,\n 'outthe': 4999,\n 'camera': 1237,\n 'broken': 1109,\n 'lamesauce': 3922,\n 'cheescake': 1385,\n 'factory': 2418,\n 'guts': 3036,\n 'stuffed': 6508,\n 'dm': 2026,\n 'address': 340,\n 'damn': 1793,\n 'nothinghahaha': 4818,\n 'miserablei': 4470,\n 'gona': 2897,\n 'crysux': 1727,\n 'kill': 3829,\n 'brush': 1136,\n 'teeth': 6749,\n 'chocolates': 1426,\n 'right': 5749,\n 'mommy': 4526,\n 'sday': 5970,\n 'soderling': 6274,\n 'ferrer': 2502,\n 'gilles': 2846,\n 'simon': 6144,\n 'lost': 4142,\n 'sunny': 6578,\n 'dollars': 2051,\n 'lose': 4136,\n 'maï': 4322,\n 'ago': 383,\n 'nah': 4666,\n 'actually': 326,\n 'sleepthe': 6204,\n 'data': 1819,\n 'recovery': 5625,\n 'place': 5253,\n 'called': 1233,\n 'woke': 7651,\n 'photos': 5200,\n 'park': 5083,\n 'hello': 3217,\n 'london': 4112,\n 'hackneys': 3058,\n 'mental': 4382,\n 'link': 4054,\n 'late': 3940,\n 'nothin': 4817,\n 'alarm': 421,\n 'came': 1236,\n 'realize': 5591,\n 'leaving': 3988,\n 'early': 2176,\n 'ok': 4912,\n 'fine': 2548,\n 'trying': 7107,\n 'beat': 826,\n 'cold': 1517,\n 'winter': 7617,\n 'swim': 6644,\n 'refreshing': 5635,\n 'muhahaha': 4630,\n 'joined': 3724,\n 'cult': 1739,\n 'heyabtw': 3239,\n 'twitterific': 7184,\n 'iphone': 3592,\n 'app': 554,\n 'add': 333,\n 'ur': 7288,\n 'internet': 3570,\n 'taught': 6718,\n 'colbe': 1516,\n 'repo': 5688,\n 'sway': 6626,\n 'baby': 724,\n 'zommgg': 7873,\n 'itneed': 3623,\n 'screamo': 5955,\n 'boys': 1045,\n 'online': 4940,\n 'club': 1494,\n 'owner': 5011,\n 'ean': 2173,\n 'golden': 2893,\n 'hahaha': 3069,\n 'fan': 2444,\n 'mention': 4383,\n 'gutted': 3038,\n 'bihday': 907,\n 'soon': 6298,\n 'brendon': 1081,\n 'thinks': 6841,\n 'lame': 3920,\n 'drunk': 2134,\n 'finnished': 2557,\n 'double': 2071,\n 'cheeseburger': 1387,\n 'goodready': 2914,\n 'spanish': 6344,\n 'f1': 2404,\n 'lolno': 4106,\n 'effing': 2217,\n 'wu': 7735,\n 'tang': 6700,\n 'shis': 6075,\n 'represent': 5690,\n 'sunburned': 6571,\n 'face': 2410,\n 'legs': 3998,\n 'fixing': 2569,\n 'arms': 589,\n 'tooo': 7012,\n 'pulled': 5479,\n 'aunt': 656,\n 'fell': 2493,\n 'fiance': 2512,\n 'fair': 2429,\n 'sniff': 6255,\n 'snifftake': 6257,\n 'care': 1276,\n 'ravels': 5574,\n 'hopefully': 3347,\n 'chatting': 1370,\n 'hella': 3214,\n 'ohi': 4905,\n 'sorryi': 6318,\n 'imagine': 3497,\n 'reality': 5590,\n '20': 62,\n '50': 182,\n 'hs': 3391,\n 'office': 4893,\n 'wanna': 7439,\n 'finished': 2553,\n 'return': 5718,\n 'chasers': 1364,\n 'quite': 5526,\n 'crap': 1680,\n 'compared': 1554,\n 'mr': 4609,\n 'tonematrix': 6986,\n 'poor': 5329,\n 'guy': 3041,\n 'ill': 3486,\n 'twittersphere': 7190,\n 'emails': 2239,\n 'using': 7300,\n 'account': 306,\n 'stuff': 6507,\n 'understand': 7235,\n 'changed': 1346,\n 'passwords': 5095,\n 'fabulous': 2408,\n 'gone': 2898,\n 'korean': 3877,\n 'festival': 2504,\n '33': 109,\n 'sexy': 6035,\n 'shinee': 6069,\n 'degree': 1888,\n 'tear': 6736,\n 'moment': 4521,\n 'mypict': 4657,\n '1zpf': 61,\n 'juddday': 3752,\n 'carrie': 1286,\n 'incredibly': 3525,\n 'person': 5167,\n 'energy': 2265,\n 'laugh': 3949,\n 'eah': 2170,\n 'ppl': 5368,\n 'green': 2976,\n 'realized': 5592,\n 'fantastic': 2450,\n 'nerdfriends': 4716,\n 'longer': 4116,\n 'rochester': 5777,\n 'song': 6293,\n 'bored': 1020,\n 'untill': 7263,\n 'newt': 4741,\n 'marry': 4288,\n 'stuck': 6500,\n 'situations': 6173,\n 'profile': 5439,\n 'glad': 2862,\n 'graverobber': 2962,\n 'wonder': 7661,\n 'bother': 1028,\n 'workwould': 7702,\n 'fishing': 2563,\n 'wide': 7587,\n 'awake': 676,\n 'grouchy': 3001,\n 'fuck': 2725,\n ...}"
     },
     "metadata": {},
     "execution_count": 23
    }
   ],
   "source": [
    "vect.fit(X_train)\n",
    "vect.vocabulary_"
   ]
  },
  {
   "cell_type": "code",
   "execution_count": 24,
   "metadata": {},
   "outputs": [],
   "source": [
    "X_train_transformed = vect.transform(X_train)\n",
    "X_test_transformed =vect.transform(X_test)"
   ]
  },
  {
   "cell_type": "code",
   "execution_count": 25,
   "metadata": {
    "tags": []
   },
   "outputs": [
    {
     "output_type": "stream",
     "name": "stdout",
     "text": "<class 'scipy.sparse.csr.csr_matrix'>\n  (0, 2889)\t1\n  (0, 3127)\t1\n  (0, 7336)\t1\n  (0, 7440)\t1\n  (1, 3376)\t1\n  (1, 3491)\t1\n  (1, 5857)\t1\n  (1, 5878)\t1\n  (1, 6134)\t1\n  (2, 1829)\t1\n  (2, 2076)\t1\n  (2, 4064)\t1\n  (2, 4072)\t1\n  (2, 5301)\t1\n  (2, 6479)\t1\n  (2, 6906)\t1\n  (2, 7440)\t1\n  (3, 2490)\t1\n  (3, 4037)\t1\n  (3, 6874)\t1\n  (4, 2440)\t1\n  (4, 3063)\t1\n  (4, 3101)\t1\n  (4, 3861)\t1\n  (4, 6800)\t1\n  :\t:\n  (3799, 2116)\t1\n  (3799, 2543)\t1\n  (3799, 2889)\t1\n  (3799, 3491)\t1\n  (3799, 3981)\t1\n  (3799, 4079)\t1\n  (3799, 4524)\t1\n  (3799, 5453)\t1\n  (3799, 5462)\t1\n  (3799, 5831)\t1\n  (3799, 7173)\t1\n  (3800, 489)\t1\n  (3800, 2242)\t1\n  (3800, 2740)\t1\n  (3800, 2910)\t1\n  (3800, 4922)\t1\n  (3800, 5175)\t1\n  (3800, 5206)\t1\n  (3800, 5667)\t1\n  (3800, 5920)\t1\n  (3800, 6298)\t1\n  (3800, 6846)\t1\n  (3800, 7288)\t1\n  (3800, 7751)\t1\n  (3800, 7811)\t1\n"
    }
   ],
   "source": [
    "print(type(X_train_transformed))\n",
    "print(X_train_transformed)"
   ]
  },
  {
   "cell_type": "code",
   "execution_count": 26,
   "metadata": {},
   "outputs": [
    {
     "output_type": "execute_result",
     "data": {
      "text/plain": "SVC(random_state=1)"
     },
     "metadata": {},
     "execution_count": 26
    }
   ],
   "source": [
    "from sklearn.svm import SVC\n",
    "svcclassifier = SVC(kernel = 'rbf', random_state = 1)\n",
    "svcclassifier.fit(X_train_transformed, y_train)"
   ]
  },
  {
   "cell_type": "code",
   "execution_count": 27,
   "metadata": {
    "tags": []
   },
   "outputs": [
    {
     "output_type": "stream",
     "name": "stdout",
     "text": "['sadness' 'sadness' 'happiness' ... 'happiness' 'happiness' 'sadness']\n"
    }
   ],
   "source": [
    "y_pred = svcclassifier.predict(X_test_transformed)\n",
    "print(y_pred)"
   ]
  },
  {
   "cell_type": "code",
   "execution_count": 28,
   "metadata": {
    "tags": []
   },
   "outputs": [
    {
     "output_type": "stream",
     "name": "stdout",
     "text": "0.6208568207440812\n"
    }
   ],
   "source": [
    "from sklearn import metrics\n",
    "print(metrics.accuracy_score(y_test,y_pred))"
   ]
  }
 ],
 "metadata": {
  "kernelspec": {
   "display_name": "Python 3",
   "language": "python",
   "name": "python3"
  },
  "language_info": {
   "codemirror_mode": {
    "name": "ipython",
    "version": 3
   },
   "file_extension": ".py",
   "mimetype": "text/x-python",
   "name": "python",
   "nbconvert_exporter": "python",
   "pygments_lexer": "ipython3",
   "version": "3.8.3-final"
  }
 },
 "nbformat": 4,
 "nbformat_minor": 4
}